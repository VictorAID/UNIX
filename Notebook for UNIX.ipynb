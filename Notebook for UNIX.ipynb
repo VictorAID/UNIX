{
 "cells": [
  {
   "cell_type": "code",
   "execution_count": null,
   "id": "03b64f67",
   "metadata": {},
   "outputs": [],
   "source": [
    "# UNIX COMMANDS"
   ]
  },
  {
   "cell_type": "code",
   "execution_count": null,
   "id": "2a7f1a2e",
   "metadata": {},
   "outputs": [],
   "source": [
    "## Fundamental UNIX commands:\n",
    "\n",
    "\n",
    "### 1. **ls** - List Directory Contents\n",
    "   - Syntax: `ls [options] [file/directory]`\n",
    "   - Use Cases:\n",
    "     - List files in current directory: `ls`\n",
    "     - Detailed list with file sizes and permissions: `ls -l`\n",
    "     - List all files (including hidden): `ls -a`\n",
    "\n",
    "### 2. **cd** - Change Directory\n",
    "   - Syntax: `cd [directory]`\n",
    "   - Use Cases:\n",
    "     - Change to a directory named \"Documents\": `cd Documents`\n",
    "     - Go to the home directory: `cd ~`\n",
    "     - Move up one directory: `cd ..`\n",
    "\n",
    "### 3. **pwd** - Print Working Directory\n",
    "   - Syntax: `pwd`\n",
    "   - Display the current directory: `pwd`\n",
    "\n",
    "### 4. **mkdir** - Make Directory\n",
    "   - Syntax: `mkdir [directory name]`\n",
    "\n",
    "### 5. **rmdir** - Remove Directory\n",
    "   - Syntax: `rmdir [directory name]`\n",
    "\n",
    "### 6. **cp** - Copy Files/Directories\n",
    "   - Syntax: `cp [options] source destination`\n",
    "   - Use Cases:\n",
    "     - Copy a file to another directory: `cp file1.txt /path/to/destination/`\n",
    "     - Recursively copy a directory: `cp -r directory1 /path/to/destination/`\n",
    "\n",
    "### 7. **mv** - Move/Rename Files or Directories\n",
    "   - Syntax: `mv [options] source destination`\n",
    "   - Use Cases:\n",
    "     - Move a file to another directory: `mv file1.txt /path/to/destination/`\n",
    "     - Rename a file: `mv oldname.txt newname.txt`\n",
    "\n",
    "### 8. **rm** - Remove/Delete Files or Directories\n",
    "   - Syntax: `rm [options] file/directory`\n",
    "   - Use Cases:\n",
    "     - Delete a file: `rm file1.txt`\n",
    "     - Delete a directory and its contents recursively: `rm -r directory1`\n",
    "\n",
    "### 9. **cat** - Concatenate and Display File Content\n",
    "   - Syntax: `cat [options] file`\n",
    "   - Use Case: Display contents of a file named \"sample.txt\": `cat sample.txt`\n",
    "\n",
    "### 10. **grep** - Search Text\n",
    "   - Syntax: `grep [options] pattern [files]`\n",
    "   - Use Case: Search for a word \"error\" in a file: `grep \"error\" file.txt`\n",
    "\n",
    "### 11. **chmod** - Change File Permissions\n",
    "   - Syntax: `chmod [options] mode file`\n",
    "   - Use Case: Give execute permission to a file: `chmod +x script.sh`\n",
    "\n",
    "### 12. **chown** - Change File Ownership\n",
    "   - Syntax: `chown [options] owner:group file`\n",
    "   - Use Case: Change the owner of a file to \"user1\": `chown user1:group1 file.txt`\n",
    "\n",
    "### 13. **find** - Search for Files in a Directory Hierarchy\n",
    "   - Syntax: `find [path] [expression]`\n",
    "   - Use Case: Find all .txt files in the current directory: `find . -name \"*.txt\"`\n",
    "\n",
    "### 14. **tar** - Archive Files\n",
    "   - Syntax: `tar [options] [archive-file] [files/directories]`\n",
    "   - Use Cases:\n",
    "     - Create a tar archive: `tar -cvf archive.tar file1 file2`\n",
    "     - Extract a tar archive: `tar -xvf archive.tar`\n",
    "\n",
    "### 15. **wget** - Download Files from the Web\n",
    "   - Syntax: `wget [options] [URL]`\n",
    "   - Use Case: Download a file from a URL: `wget https://example.com/file.zip`\n",
    "\n",
    "### 16. **touch** - Create or Update File Timestamp\n",
    "   - Syntax: `touch [options] filename`\n",
    "   - Use Case: Create an empty file named \"newfile.txt\": touch newfile.txt\n",
    "\n",
    "### Redirection and Piping Symbols:\n",
    "- `<`: Redirects stdin.\n",
    "- `>`: Redirects stdout, overwrites.\n",
    "- `>>`: Appends stdout.\n",
    "- `2>`: Redirects stderr.\n",
    "- `2>>`: Appends stderr.\n",
    "- `&>`: Redirects both stdout and stderr.\n",
    "- `|`: Pipes stdout of one command to stdin of another.\n",
    "\n"
   ]
  },
  {
   "cell_type": "code",
   "execution_count": null,
   "id": "ecb6d9e1",
   "metadata": {},
   "outputs": [],
   "source": [
    "## Questions"
   ]
  },
  {
   "cell_type": "code",
   "execution_count": null,
   "id": "46b76eec",
   "metadata": {},
   "outputs": [],
   "source": [
    "### 1. List all files and directories\n"
   ]
  },
  {
   "cell_type": "code",
   "execution_count": 1,
   "id": "aa5b6ec6",
   "metadata": {},
   "outputs": [
    {
     "name": "stdout",
     "output_type": "stream",
     "text": [
      "Server execution failed\r",
      "\r\n"
     ]
    },
    {
     "ename": "CalledProcessError",
     "evalue": "Command 'b'\\n!pwd\\n'' returned non-zero exit status 1.",
     "output_type": "error",
     "traceback": [
      "\u001b[1;31m---------------------------------------------------------------------------\u001b[0m",
      "\u001b[1;31mCalledProcessError\u001b[0m                        Traceback (most recent call last)",
      "Cell \u001b[1;32mIn[1], line 1\u001b[0m\n\u001b[1;32m----> 1\u001b[0m \u001b[43mget_ipython\u001b[49m\u001b[43m(\u001b[49m\u001b[43m)\u001b[49m\u001b[38;5;241;43m.\u001b[39;49m\u001b[43mrun_cell_magic\u001b[49m\u001b[43m(\u001b[49m\u001b[38;5;124;43m'\u001b[39;49m\u001b[38;5;124;43mbash\u001b[39;49m\u001b[38;5;124;43m'\u001b[39;49m\u001b[43m,\u001b[49m\u001b[43m \u001b[49m\u001b[38;5;124;43m'\u001b[39;49m\u001b[38;5;124;43m'\u001b[39;49m\u001b[43m,\u001b[49m\u001b[43m \u001b[49m\u001b[38;5;124;43m'\u001b[39;49m\u001b[38;5;130;43;01m\\n\u001b[39;49;00m\u001b[38;5;124;43m!pwd\u001b[39;49m\u001b[38;5;130;43;01m\\n\u001b[39;49;00m\u001b[38;5;124;43m'\u001b[39;49m\u001b[43m)\u001b[49m\n",
      "File \u001b[1;32m~\\AppData\\Local\\Programs\\Python\\Python38\\lib\\site-packages\\IPython\\core\\interactiveshell.py:2478\u001b[0m, in \u001b[0;36mInteractiveShell.run_cell_magic\u001b[1;34m(self, magic_name, line, cell)\u001b[0m\n\u001b[0;32m   2476\u001b[0m \u001b[38;5;28;01mwith\u001b[39;00m \u001b[38;5;28mself\u001b[39m\u001b[38;5;241m.\u001b[39mbuiltin_trap:\n\u001b[0;32m   2477\u001b[0m     args \u001b[38;5;241m=\u001b[39m (magic_arg_s, cell)\n\u001b[1;32m-> 2478\u001b[0m     result \u001b[38;5;241m=\u001b[39m \u001b[43mfn\u001b[49m\u001b[43m(\u001b[49m\u001b[38;5;241;43m*\u001b[39;49m\u001b[43margs\u001b[49m\u001b[43m,\u001b[49m\u001b[43m \u001b[49m\u001b[38;5;241;43m*\u001b[39;49m\u001b[38;5;241;43m*\u001b[39;49m\u001b[43mkwargs\u001b[49m\u001b[43m)\u001b[49m\n\u001b[0;32m   2480\u001b[0m \u001b[38;5;66;03m# The code below prevents the output from being displayed\u001b[39;00m\n\u001b[0;32m   2481\u001b[0m \u001b[38;5;66;03m# when using magics with decodator @output_can_be_silenced\u001b[39;00m\n\u001b[0;32m   2482\u001b[0m \u001b[38;5;66;03m# when the last Python token in the expression is a ';'.\u001b[39;00m\n\u001b[0;32m   2483\u001b[0m \u001b[38;5;28;01mif\u001b[39;00m \u001b[38;5;28mgetattr\u001b[39m(fn, magic\u001b[38;5;241m.\u001b[39mMAGIC_OUTPUT_CAN_BE_SILENCED, \u001b[38;5;28;01mFalse\u001b[39;00m):\n",
      "File \u001b[1;32m~\\AppData\\Local\\Programs\\Python\\Python38\\lib\\site-packages\\IPython\\core\\magics\\script.py:153\u001b[0m, in \u001b[0;36mScriptMagics._make_script_magic.<locals>.named_script_magic\u001b[1;34m(line, cell)\u001b[0m\n\u001b[0;32m    151\u001b[0m \u001b[38;5;28;01melse\u001b[39;00m:\n\u001b[0;32m    152\u001b[0m     line \u001b[38;5;241m=\u001b[39m script\n\u001b[1;32m--> 153\u001b[0m \u001b[38;5;28;01mreturn\u001b[39;00m \u001b[38;5;28;43mself\u001b[39;49m\u001b[38;5;241;43m.\u001b[39;49m\u001b[43mshebang\u001b[49m\u001b[43m(\u001b[49m\u001b[43mline\u001b[49m\u001b[43m,\u001b[49m\u001b[43m \u001b[49m\u001b[43mcell\u001b[49m\u001b[43m)\u001b[49m\n",
      "File \u001b[1;32m~\\AppData\\Local\\Programs\\Python\\Python38\\lib\\site-packages\\IPython\\core\\magics\\script.py:305\u001b[0m, in \u001b[0;36mScriptMagics.shebang\u001b[1;34m(self, line, cell)\u001b[0m\n\u001b[0;32m    300\u001b[0m \u001b[38;5;28;01mif\u001b[39;00m args\u001b[38;5;241m.\u001b[39mraise_error \u001b[38;5;129;01mand\u001b[39;00m p\u001b[38;5;241m.\u001b[39mreturncode \u001b[38;5;241m!=\u001b[39m \u001b[38;5;241m0\u001b[39m:\n\u001b[0;32m    301\u001b[0m     \u001b[38;5;66;03m# If we get here and p.returncode is still None, we must have\u001b[39;00m\n\u001b[0;32m    302\u001b[0m     \u001b[38;5;66;03m# killed it but not yet seen its return code. We don't wait for it,\u001b[39;00m\n\u001b[0;32m    303\u001b[0m     \u001b[38;5;66;03m# in case it's stuck in uninterruptible sleep. -9 = SIGKILL\u001b[39;00m\n\u001b[0;32m    304\u001b[0m     rc \u001b[38;5;241m=\u001b[39m p\u001b[38;5;241m.\u001b[39mreturncode \u001b[38;5;129;01mor\u001b[39;00m \u001b[38;5;241m-\u001b[39m\u001b[38;5;241m9\u001b[39m\n\u001b[1;32m--> 305\u001b[0m     \u001b[38;5;28;01mraise\u001b[39;00m CalledProcessError(rc, cell)\n",
      "\u001b[1;31mCalledProcessError\u001b[0m: Command 'b'\\n!pwd\\n'' returned non-zero exit status 1."
     ]
    }
   ],
   "source": [
    "%%bash\n",
    "\n",
    "!pwd"
   ]
  },
  {
   "cell_type": "code",
   "execution_count": null,
   "id": "e19248fc",
   "metadata": {},
   "outputs": [],
   "source": [
    "%%bash\n",
    "\n",
    "ls \n"
   ]
  },
  {
   "cell_type": "markdown",
   "id": "c7e3c39b",
   "metadata": {},
   "source": [
    "## 2. Change your current directory to VICTORAI/Blossom from the current location.\n"
   ]
  },
  {
   "cell_type": "code",
   "execution_count": null,
   "id": "054162bb",
   "metadata": {},
   "outputs": [],
   "source": [
    "%%bash\n",
    "cd VICTORAI/Blossom\n",
    "pwd"
   ]
  },
  {
   "cell_type": "markdown",
   "id": "e88f27d7",
   "metadata": {},
   "source": [
    "## 3. Create a new directory named Spring within VICTORAI/Blossom."
   ]
  },
  {
   "cell_type": "code",
   "execution_count": null,
   "id": "4b7f50ae",
   "metadata": {},
   "outputs": [],
   "source": [
    "mkdir Spring\n"
   ]
  },
  {
   "cell_type": "markdown",
   "id": "ba208b9e",
   "metadata": {},
   "source": [
    "## 4. Navigate back to the parent directory from VICTORAI/Blossom."
   ]
  },
  {
   "cell_type": "code",
   "execution_count": null,
   "id": "30d9409e",
   "metadata": {},
   "outputs": [],
   "source": [
    "cd ..\n"
   ]
  },
  {
   "cell_type": "markdown",
   "id": "72ac67ac",
   "metadata": {},
   "source": [
    "## 5. Copy a file named example.txt from the current directory to VICTORAI/Blossom."
   ]
  },
  {
   "cell_type": "code",
   "execution_count": null,
   "id": "0ca67d33",
   "metadata": {},
   "outputs": [],
   "source": [
    "%%bash\n",
    "cp example.txt VICTORAI/Blossom/\n"
   ]
  },
  {
   "cell_type": "markdown",
   "id": "f6a290f2",
   "metadata": {},
   "source": [
    "## 6. Rename the file emma.txt in VICTORAI/Blossom to sam.txt."
   ]
  },
  {
   "cell_type": "code",
   "execution_count": null,
   "id": "66150446",
   "metadata": {},
   "outputs": [],
   "source": [
    "mv VICTORAI/Blossom/flower.jpg VICTORAI/Blossom/rose.jpg\n"
   ]
  },
  {
   "cell_type": "markdown",
   "id": "a8f2c612",
   "metadata": {},
   "source": [
    "## 7. Remove the directory Spring within VICTORAI/Blossom."
   ]
  },
  {
   "cell_type": "code",
   "execution_count": null,
   "id": "6c1c91aa",
   "metadata": {},
   "outputs": [],
   "source": [
    "rm -r VICTORAI/Blossom/Spring\n"
   ]
  },
  {
   "cell_type": "markdown",
   "id": "e7a01b19",
   "metadata": {},
   "source": [
    "## 8. Find all files with the .txt extension within VICTORAI/Blossom and display their contents."
   ]
  },
  {
   "cell_type": "code",
   "execution_count": null,
   "id": "7bb8e6c5",
   "metadata": {},
   "outputs": [],
   "source": [
    "find VICTORAI/Blossom -name \"*.txt\" -exec cat {} \\;\n"
   ]
  },
  {
   "cell_type": "markdown",
   "id": "b7b992ae",
   "metadata": {},
   "source": [
    "## 9. Change the permissions of rose.jpg in VICTORAI/Blossom to be readable, writable, and executable by the owner only.\n"
   ]
  },
  {
   "cell_type": "code",
   "execution_count": null,
   "id": "acc7459a",
   "metadata": {},
   "outputs": [],
   "source": [
    "chmod u=rwx VICTORAI/Blossom/rose.jpg\n"
   ]
  },
  {
   "cell_type": "markdown",
   "id": "fcfec528",
   "metadata": {},
   "source": [
    "## 10. List all directories including hidden directories."
   ]
  },
  {
   "cell_type": "code",
   "execution_count": null,
   "id": "aad69594",
   "metadata": {},
   "outputs": [],
   "source": [
    "ls -a VICTORAI/Blossom/Academy\n"
   ]
  },
  {
   "cell_type": "markdown",
   "id": "21e93bcb",
   "metadata": {},
   "source": [
    "## 11. Move the file emma.txt from VICTORAI/Blossom to a new directory named Garden within VICTORAI/Blossom.\n"
   ]
  },
  {
   "cell_type": "code",
   "execution_count": null,
   "id": "b6db16b2",
   "metadata": {},
   "outputs": [],
   "source": [
    "mkdir VICTORAI/Blossom/Garden\n",
    "mv VICTORAI/Blossom/rose.jpg VICTORAI/Blossom/Garden/\n"
   ]
  },
  {
   "cell_type": "markdown",
   "id": "6a1f7ca4",
   "metadata": {},
   "source": [
    "## 12. Delete the file emma.txt from VICTORAI/Blossom.\n"
   ]
  },
  {
   "cell_type": "code",
   "execution_count": null,
   "id": "9ba83386",
   "metadata": {},
   "outputs": [],
   "source": [
    "rm VICTORAI/Blossom/emma.txt\n"
   ]
  },
  {
   "cell_type": "markdown",
   "id": "6c6cceb0",
   "metadata": {},
   "source": [
    "## 13. List all files in VICTORAI/Blossom with their sizes in a human-readable format."
   ]
  },
  {
   "cell_type": "code",
   "execution_count": null,
   "id": "4a36f1ee",
   "metadata": {},
   "outputs": [],
   "source": [
    "ls -lh VICTORAI/Blossom\n"
   ]
  },
  {
   "cell_type": "markdown",
   "id": "c8e58e0f",
   "metadata": {},
   "source": [
    "## 14. Create an empty file named blossom.txt in VICTORAI/Blossom."
   ]
  },
  {
   "cell_type": "code",
   "execution_count": null,
   "id": "e74a31bd",
   "metadata": {},
   "outputs": [],
   "source": [
    "touch VICTORAI/Blossom/blossom.txt\n"
   ]
  },
  {
   "cell_type": "markdown",
   "id": "4df27cba",
   "metadata": {},
   "source": [
    "## 15. Download a file named butterfly.jpg from a URL into VICTORAI/Blossom.\n"
   ]
  },
  {
   "cell_type": "code",
   "execution_count": null,
   "id": "089bb234",
   "metadata": {},
   "outputs": [],
   "source": [
    "wget -O VICTORAI/Blossom/butterfly.jpg https://example.com/butterfly.jpg\n"
   ]
  },
  {
   "cell_type": "markdown",
   "id": "243a2359",
   "metadata": {},
   "source": [
    "## 16. Move all .txt files from VICTORAI/Blossom to a new directory named TextFiles within VICTORAI/Blossom."
   ]
  },
  {
   "cell_type": "code",
   "execution_count": null,
   "id": "dc2bfd6d",
   "metadata": {},
   "outputs": [],
   "source": [
    "mkdir VICTORAI/Blossom/TextFiles\n",
    "mv VICTORAI/Blossom/*.txt VICTORAI/Blossom/TextFiles/\n"
   ]
  },
  {
   "cell_type": "markdown",
   "id": "7722f7dc",
   "metadata": {},
   "source": [
    "## 17. List all files in VICTORAI/Blossom sorted by modification time, with the newest files at the bottom."
   ]
  },
  {
   "cell_type": "code",
   "execution_count": null,
   "id": "a48aee41",
   "metadata": {},
   "outputs": [],
   "source": [
    "ls -lt VICTORAI/Blossom\n"
   ]
  },
  {
   "cell_type": "code",
   "execution_count": null,
   "id": "d3e65c24",
   "metadata": {},
   "outputs": [],
   "source": [
    "## 18. Copy the entire Garden directory from VICTORAI/Blossom to a new location named Backup within VICTORAI.\n"
   ]
  },
  {
   "cell_type": "code",
   "execution_count": null,
   "id": "34ea6a15",
   "metadata": {},
   "outputs": [],
   "source": [
    "cp -r VICTORAI/Blossom/Garden VICTORAI/Backup/\n"
   ]
  },
  {
   "cell_type": "code",
   "execution_count": null,
   "id": "03237476",
   "metadata": {},
   "outputs": [],
   "source": [
    "## 19. Change the owner of rose.jpg in VICTORAI/Blossom to a user named flora."
   ]
  },
  {
   "cell_type": "code",
   "execution_count": null,
   "id": "694833a5",
   "metadata": {},
   "outputs": [],
   "source": [
    "chown flora VICTORAI/Blossom/rose.jpg\n"
   ]
  },
  {
   "cell_type": "code",
   "execution_count": null,
   "id": "02f3f8c5",
   "metadata": {},
   "outputs": [],
   "source": [
    "## 20. Create a compressed archive named flowers.tar.gz containing all files in VICTORAI/Blossom."
   ]
  },
  {
   "cell_type": "code",
   "execution_count": null,
   "id": "68789f5b",
   "metadata": {},
   "outputs": [],
   "source": [
    "tar -czf flowers.tar.gz VICTORAI/Blossom/*\n"
   ]
  },
  {
   "cell_type": "code",
   "execution_count": null,
   "id": "dc712739",
   "metadata": {},
   "outputs": [],
   "source": [
    "## 21. Find all files in VICTORAI/Blossom larger than 1MB in size."
   ]
  },
  {
   "cell_type": "code",
   "execution_count": null,
   "id": "d72ee8b9",
   "metadata": {},
   "outputs": [],
   "source": [
    "find VICTORAI/Blossom -size +1M\n"
   ]
  },
  {
   "cell_type": "code",
   "execution_count": null,
   "id": "36b1ed77",
   "metadata": {},
   "outputs": [],
   "source": [
    "## 22. List all files in VICTORAI/Blossom with their owners and permissions.\n"
   ]
  },
  {
   "cell_type": "code",
   "execution_count": null,
   "id": "eed73047",
   "metadata": {},
   "outputs": [],
   "source": [
    "ls -l VICTORAI/Blossom\n"
   ]
  },
  {
   "cell_type": "code",
   "execution_count": null,
   "id": "ced26491",
   "metadata": {},
   "outputs": [],
   "source": [
    "## 23. Create a new directory named Autumn within VICTORAI/Blossom, then move all .jpg files from VICTORAI/Blossom to Autumn."
   ]
  },
  {
   "cell_type": "code",
   "execution_count": null,
   "id": "b480c39f",
   "metadata": {},
   "outputs": [],
   "source": [
    "mkdir VICTORAI/Blossom/Autumn\n",
    "mv VICTORAI/Blossom/*.jpg VICTORAI/Blossom/Autumn/\n"
   ]
  },
  {
   "cell_type": "code",
   "execution_count": null,
   "id": "3fb7c8e1",
   "metadata": {},
   "outputs": [],
   "source": [
    "## 24. Display the contents of the file blossom.txt in VICTORAI/Blossom.\n"
   ]
  },
  {
   "cell_type": "code",
   "execution_count": null,
   "id": "97b98745",
   "metadata": {},
   "outputs": [],
   "source": [
    "cat VICTORAI/Blossom/blossom.txt\n"
   ]
  },
  {
   "cell_type": "code",
   "execution_count": null,
   "id": "780a3cd8",
   "metadata": {},
   "outputs": [],
   "source": [
    "## 25. Count the number of lines in blossom.txt within VICTORAI/Blossom."
   ]
  },
  {
   "cell_type": "code",
   "execution_count": null,
   "id": "47d54ee4",
   "metadata": {},
   "outputs": [],
   "source": [
    "wc -l VICTORAI/Blossom/blossom.txt\n"
   ]
  },
  {
   "cell_type": "code",
   "execution_count": null,
   "id": "88acce8e",
   "metadata": {},
   "outputs": [],
   "source": [
    "## 26. Remove all .jpg files from VICTORAI/Blossom except for rose.jpg."
   ]
  },
  {
   "cell_type": "code",
   "execution_count": null,
   "id": "50759811",
   "metadata": {},
   "outputs": [],
   "source": [
    "rm VICTORAI/Blossom/*.jpg ! -name rose.jpg\n"
   ]
  },
  {
   "cell_type": "code",
   "execution_count": null,
   "id": "03ace524",
   "metadata": {},
   "outputs": [],
   "source": [
    "## 27. Find all directories within VICTORAI/Blossom that contain the word \"tree\" in their names."
   ]
  },
  {
   "cell_type": "code",
   "execution_count": null,
   "id": "b7bcac59",
   "metadata": {},
   "outputs": [],
   "source": [
    "find VICTORAI/Blossom -type d -name \"*tree*\"\n"
   ]
  },
  {
   "cell_type": "code",
   "execution_count": null,
   "id": "083c2e66",
   "metadata": {},
   "outputs": [],
   "source": [
    "## 28. Display the first 10 lines of blossom.txt in VICTORAI/Blossom."
   ]
  },
  {
   "cell_type": "code",
   "execution_count": null,
   "id": "6f06bced",
   "metadata": {},
   "outputs": [],
   "source": [
    "head -n 10 VICTORAI/Blossom/blossom.txt\n"
   ]
  },
  {
   "cell_type": "code",
   "execution_count": null,
   "id": "b403c9f9",
   "metadata": {},
   "outputs": [],
   "source": [
    "## 29. Sort all files in VICTORAI/Blossom by file size, from smallest to largest."
   ]
  },
  {
   "cell_type": "code",
   "execution_count": null,
   "id": "4053e1f4",
   "metadata": {},
   "outputs": [],
   "source": [
    "ls -lS VICTORAI/Blossom\n"
   ]
  },
  {
   "cell_type": "code",
   "execution_count": null,
   "id": "bc486df5",
   "metadata": {},
   "outputs": [],
   "source": [
    "## 30. Create an empty file named sunflower.txt in the VICTORAI/Blossom directory."
   ]
  },
  {
   "cell_type": "code",
   "execution_count": null,
   "id": "0739a839",
   "metadata": {},
   "outputs": [],
   "source": [
    "touch VICTORAI/Blossom/sunflower.txt\n"
   ]
  },
  {
   "cell_type": "code",
   "execution_count": null,
   "id": "17ed43dc",
   "metadata": {},
   "outputs": [],
   "source": [
    "## 31. Display the contents of the file sunflower.txt in the VICTORAI/Blossom directory."
   ]
  },
  {
   "cell_type": "code",
   "execution_count": null,
   "id": "886c0d3a",
   "metadata": {},
   "outputs": [],
   "source": [
    "cat VICTORAI/Blossom/sunflower.txt\n"
   ]
  },
  {
   "cell_type": "code",
   "execution_count": null,
   "id": "956698fb",
   "metadata": {},
   "outputs": [],
   "source": [
    "#32. Append the text \"This is a beautiful flower\" to sunflower.txt in VICTORAI/Blossom."
   ]
  },
  {
   "cell_type": "code",
   "execution_count": null,
   "id": "3b54b22a",
   "metadata": {},
   "outputs": [],
   "source": [
    "echo \"This is a beautiful flower\" >> VICTORAI/Blossom/sunflower.txt\n"
   ]
  },
  {
   "cell_type": "code",
   "execution_count": null,
   "id": "7e8b6201",
   "metadata": {},
   "outputs": [],
   "source": [
    "#33. Create a new directory named Garden within VICTORAI/Blossom."
   ]
  },
  {
   "cell_type": "code",
   "execution_count": null,
   "id": "2e7b5c77",
   "metadata": {},
   "outputs": [],
   "source": [
    "mkdir VICTORAI/Blossom/Garden\n"
   ]
  },
  {
   "cell_type": "code",
   "execution_count": null,
   "id": "816911be",
   "metadata": {},
   "outputs": [],
   "source": [
    "#34. List all files and directories in VICTORAI/Blossom and save the list to a file named directory_list.txt."
   ]
  },
  {
   "cell_type": "code",
   "execution_count": null,
   "id": "e9b61ed8",
   "metadata": {},
   "outputs": [],
   "source": [
    "ls VICTORAI/Blossom > VICTORAI/Blossom/directory_list.txt\n"
   ]
  },
  {
   "cell_type": "code",
   "execution_count": null,
   "id": "f31edc75",
   "metadata": {},
   "outputs": [],
   "source": [
    "#35. Remove the file sunflower.txt from VICTORAI/Blossom."
   ]
  },
  {
   "cell_type": "code",
   "execution_count": null,
   "id": "25dcf8c3",
   "metadata": {},
   "outputs": [],
   "source": [
    "rm VICTORAI/Blossom/sunflower.txt\n"
   ]
  },
  {
   "cell_type": "code",
   "execution_count": null,
   "id": "15f6e01c",
   "metadata": {},
   "outputs": [],
   "source": [
    "#36. List all files in VICTORAI/Blossom that have the .jpg extension."
   ]
  },
  {
   "cell_type": "code",
   "execution_count": null,
   "id": "75bb9cd4",
   "metadata": {},
   "outputs": [],
   "source": [
    "ls VICTORAI/Blossom/*.jpg\n"
   ]
  },
  {
   "cell_type": "code",
   "execution_count": null,
   "id": "88dca588",
   "metadata": {},
   "outputs": [],
   "source": [
    "#37. Copy the contents of sunflower.txt into a new file named copy_sunflower.txt in VICTORAI/Blossom."
   ]
  },
  {
   "cell_type": "code",
   "execution_count": null,
   "id": "a282cd0c",
   "metadata": {},
   "outputs": [],
   "source": [
    "cp VICTORAI/Blossom/sunflower.txt VICTORAI/Blossom/copy_sunflower.txt\n"
   ]
  },
  {
   "cell_type": "code",
   "execution_count": null,
   "id": "29f7c08b",
   "metadata": {},
   "outputs": [],
   "source": [
    "#38. Remove the Garden directory and all its contents from VICTORAI/Blossom."
   ]
  },
  {
   "cell_type": "code",
   "execution_count": null,
   "id": "d0cbd1f8",
   "metadata": {},
   "outputs": [],
   "source": [
    "rm -r VICTORAI/Blossom/Garden\n"
   ]
  },
  {
   "cell_type": "code",
   "execution_count": null,
   "id": "254c7098",
   "metadata": {},
   "outputs": [],
   "source": [
    "#39. Create a new directory named Autumn and Spring within VICTORAI/Blossom."
   ]
  },
  {
   "cell_type": "code",
   "execution_count": null,
   "id": "c0d923b0",
   "metadata": {},
   "outputs": [],
   "source": [
    "mkdir VICTORAI/Blossom/Autumn VICTORAI/Blossom/Spring\n"
   ]
  },
  {
   "cell_type": "code",
   "execution_count": null,
   "id": "8966a649",
   "metadata": {},
   "outputs": [],
   "source": [
    "#39. Move the file copy_sunflower.txt from VICTORAI/Blossom to the Autumn directory."
   ]
  },
  {
   "cell_type": "code",
   "execution_count": null,
   "id": "910f8744",
   "metadata": {},
   "outputs": [],
   "source": [
    "mv VICTORAI/Blossom/copy_sunflower.txt VICTORAI/Blossom/Autumn/\n"
   ]
  },
  {
   "cell_type": "code",
   "execution_count": null,
   "id": "083826a9",
   "metadata": {},
   "outputs": [],
   "source": [
    "#40. Redirect the contents of directory_list.txt to a new file named sorted_list.txt within VICTORAI/Blossom."
   ]
  },
  {
   "cell_type": "code",
   "execution_count": null,
   "id": "d4d18840",
   "metadata": {},
   "outputs": [],
   "source": [
    "cat VICTORAI/Blossom/directory_list.txt | sort > VICTORAI/Blossom/sorted_list.txt\n"
   ]
  },
  {
   "cell_type": "code",
   "execution_count": null,
   "id": "c1ceabd1",
   "metadata": {},
   "outputs": [],
   "source": [
    "#41. Change the permissions of rose.jpg in VICTORAI/Blossom to be readable and writable by the owner only.\n"
   ]
  },
  {
   "cell_type": "code",
   "execution_count": null,
   "id": "09c2f887",
   "metadata": {},
   "outputs": [],
   "source": [
    "chmod u+rw VICTORAI/Blossom/rose.jpg\n"
   ]
  },
  {
   "cell_type": "code",
   "execution_count": null,
   "id": "c3d07c2b",
   "metadata": {},
   "outputs": [],
   "source": [
    "#42. Display the last 5 lines of sunflower.txt in VICTORAI/Blossom."
   ]
  },
  {
   "cell_type": "code",
   "execution_count": null,
   "id": "d56bb4f3",
   "metadata": {},
   "outputs": [],
   "source": [
    "tail -n 5 VICTORAI/Blossom/sunflower.txt\n"
   ]
  },
  {
   "cell_type": "code",
   "execution_count": null,
   "id": "9cbda458",
   "metadata": {},
   "outputs": [],
   "source": [
    "#43. Extract the contents of archive.tar in the current directory."
   ]
  },
  {
   "cell_type": "code",
   "execution_count": null,
   "id": "4011ae40",
   "metadata": {},
   "outputs": [],
   "source": [
    "tar -xvf archive.tar\n"
   ]
  },
  {
   "cell_type": "code",
   "execution_count": null,
   "id": "2599c656",
   "metadata": {},
   "outputs": [],
   "source": [
    "#44. Extract archive.tar to the /tmp directory."
   ]
  },
  {
   "cell_type": "code",
   "execution_count": null,
   "id": "297fc60e",
   "metadata": {},
   "outputs": [],
   "source": [
    "tar -xvf archive.tar -C /tmp\n"
   ]
  },
  {
   "cell_type": "code",
   "execution_count": null,
   "id": "416bd45d",
   "metadata": {},
   "outputs": [],
   "source": [
    "#45. Create a tar archive named flowers.tar.gz containing all files in VICTORAI/Blossom."
   ]
  },
  {
   "cell_type": "code",
   "execution_count": null,
   "id": "97a8a705",
   "metadata": {},
   "outputs": [],
   "source": [
    "tar -czvf flowers.tar.gz VICTORAI/Blossom\n"
   ]
  },
  {
   "cell_type": "code",
   "execution_count": null,
   "id": "595ec6d7",
   "metadata": {},
   "outputs": [],
   "source": [
    "#46. Extract flowers.tar.gz and only extract files matching a specific pattern, such as *.txt."
   ]
  },
  {
   "cell_type": "code",
   "execution_count": null,
   "id": "e805dedf",
   "metadata": {},
   "outputs": [],
   "source": [
    "tar -xzvf flowers.tar.gz --wildcards '*.txt'\n"
   ]
  }
 ],
 "metadata": {
  "kernelspec": {
   "display_name": "Python 3 (ipykernel)",
   "language": "python",
   "name": "python3"
  },
  "language_info": {
   "codemirror_mode": {
    "name": "ipython",
    "version": 3
   },
   "file_extension": ".py",
   "mimetype": "text/x-python",
   "name": "python",
   "nbconvert_exporter": "python",
   "pygments_lexer": "ipython3",
   "version": "3.8.1"
  }
 },
 "nbformat": 4,
 "nbformat_minor": 5
}
